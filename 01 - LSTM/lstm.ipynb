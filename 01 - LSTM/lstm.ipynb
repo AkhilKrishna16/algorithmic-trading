{
 "cells": [
  {
   "cell_type": "code",
   "execution_count": 2,
   "metadata": {},
   "outputs": [
    {
     "name": "stderr",
     "output_type": "stream",
     "text": [
      "2024-05-19 19:58:53.510270: I tensorflow/core/platform/cpu_feature_guard.cc:193] This TensorFlow binary is optimized with oneAPI Deep Neural Network Library (oneDNN) to use the following CPU instructions in performance-critical operations:  SSE4.1 SSE4.2\n",
      "To enable them in other operations, rebuild TensorFlow with the appropriate compiler flags.\n"
     ]
    }
   ],
   "source": [
    "import yfinance \n",
    "import pandas as pd\n",
    "import numpy as np\n",
    "import tensorflow as tf\n",
    "import matplotlib.pyplot as plt"
   ]
  },
  {
   "cell_type": "code",
   "execution_count": 3,
   "metadata": {},
   "outputs": [
    {
     "name": "stderr",
     "output_type": "stream",
     "text": [
      "[*********************100%%**********************]  1 of 1 completed\n"
     ]
    },
    {
     "data": {
      "text/html": [
       "<div>\n",
       "<style scoped>\n",
       "    .dataframe tbody tr th:only-of-type {\n",
       "        vertical-align: middle;\n",
       "    }\n",
       "\n",
       "    .dataframe tbody tr th {\n",
       "        vertical-align: top;\n",
       "    }\n",
       "\n",
       "    .dataframe thead th {\n",
       "        text-align: right;\n",
       "    }\n",
       "</style>\n",
       "<table border=\"1\" class=\"dataframe\">\n",
       "  <thead>\n",
       "    <tr style=\"text-align: right;\">\n",
       "      <th></th>\n",
       "      <th>Open</th>\n",
       "      <th>High</th>\n",
       "      <th>Low</th>\n",
       "      <th>Close</th>\n",
       "      <th>Adj Close</th>\n",
       "      <th>Volume</th>\n",
       "    </tr>\n",
       "    <tr>\n",
       "      <th>Date</th>\n",
       "      <th></th>\n",
       "      <th></th>\n",
       "      <th></th>\n",
       "      <th></th>\n",
       "      <th></th>\n",
       "      <th></th>\n",
       "    </tr>\n",
       "  </thead>\n",
       "  <tbody>\n",
       "    <tr>\n",
       "      <th>1980-12-12</th>\n",
       "      <td>0.128348</td>\n",
       "      <td>0.128906</td>\n",
       "      <td>0.128348</td>\n",
       "      <td>0.128348</td>\n",
       "      <td>0.099058</td>\n",
       "      <td>469033600</td>\n",
       "    </tr>\n",
       "    <tr>\n",
       "      <th>1980-12-15</th>\n",
       "      <td>0.122210</td>\n",
       "      <td>0.122210</td>\n",
       "      <td>0.121652</td>\n",
       "      <td>0.121652</td>\n",
       "      <td>0.093890</td>\n",
       "      <td>175884800</td>\n",
       "    </tr>\n",
       "    <tr>\n",
       "      <th>1980-12-16</th>\n",
       "      <td>0.113281</td>\n",
       "      <td>0.113281</td>\n",
       "      <td>0.112723</td>\n",
       "      <td>0.112723</td>\n",
       "      <td>0.086999</td>\n",
       "      <td>105728000</td>\n",
       "    </tr>\n",
       "    <tr>\n",
       "      <th>1980-12-17</th>\n",
       "      <td>0.115513</td>\n",
       "      <td>0.116071</td>\n",
       "      <td>0.115513</td>\n",
       "      <td>0.115513</td>\n",
       "      <td>0.089152</td>\n",
       "      <td>86441600</td>\n",
       "    </tr>\n",
       "    <tr>\n",
       "      <th>1980-12-18</th>\n",
       "      <td>0.118862</td>\n",
       "      <td>0.119420</td>\n",
       "      <td>0.118862</td>\n",
       "      <td>0.118862</td>\n",
       "      <td>0.091737</td>\n",
       "      <td>73449600</td>\n",
       "    </tr>\n",
       "    <tr>\n",
       "      <th>...</th>\n",
       "      <td>...</td>\n",
       "      <td>...</td>\n",
       "      <td>...</td>\n",
       "      <td>...</td>\n",
       "      <td>...</td>\n",
       "      <td>...</td>\n",
       "    </tr>\n",
       "    <tr>\n",
       "      <th>2024-05-13</th>\n",
       "      <td>185.440002</td>\n",
       "      <td>187.100006</td>\n",
       "      <td>184.619995</td>\n",
       "      <td>186.279999</td>\n",
       "      <td>186.279999</td>\n",
       "      <td>72044800</td>\n",
       "    </tr>\n",
       "    <tr>\n",
       "      <th>2024-05-14</th>\n",
       "      <td>187.509995</td>\n",
       "      <td>188.300003</td>\n",
       "      <td>186.289993</td>\n",
       "      <td>187.429993</td>\n",
       "      <td>187.429993</td>\n",
       "      <td>52393600</td>\n",
       "    </tr>\n",
       "    <tr>\n",
       "      <th>2024-05-15</th>\n",
       "      <td>187.910004</td>\n",
       "      <td>190.649994</td>\n",
       "      <td>187.369995</td>\n",
       "      <td>189.720001</td>\n",
       "      <td>189.720001</td>\n",
       "      <td>70400000</td>\n",
       "    </tr>\n",
       "    <tr>\n",
       "      <th>2024-05-16</th>\n",
       "      <td>190.470001</td>\n",
       "      <td>191.100006</td>\n",
       "      <td>189.660004</td>\n",
       "      <td>189.839996</td>\n",
       "      <td>189.839996</td>\n",
       "      <td>52845200</td>\n",
       "    </tr>\n",
       "    <tr>\n",
       "      <th>2024-05-17</th>\n",
       "      <td>189.509995</td>\n",
       "      <td>190.809998</td>\n",
       "      <td>189.179993</td>\n",
       "      <td>189.869995</td>\n",
       "      <td>189.869995</td>\n",
       "      <td>41260800</td>\n",
       "    </tr>\n",
       "  </tbody>\n",
       "</table>\n",
       "<p>10949 rows × 6 columns</p>\n",
       "</div>"
      ],
      "text/plain": [
       "                  Open        High         Low       Close   Adj Close  \\\n",
       "Date                                                                     \n",
       "1980-12-12    0.128348    0.128906    0.128348    0.128348    0.099058   \n",
       "1980-12-15    0.122210    0.122210    0.121652    0.121652    0.093890   \n",
       "1980-12-16    0.113281    0.113281    0.112723    0.112723    0.086999   \n",
       "1980-12-17    0.115513    0.116071    0.115513    0.115513    0.089152   \n",
       "1980-12-18    0.118862    0.119420    0.118862    0.118862    0.091737   \n",
       "...                ...         ...         ...         ...         ...   \n",
       "2024-05-13  185.440002  187.100006  184.619995  186.279999  186.279999   \n",
       "2024-05-14  187.509995  188.300003  186.289993  187.429993  187.429993   \n",
       "2024-05-15  187.910004  190.649994  187.369995  189.720001  189.720001   \n",
       "2024-05-16  190.470001  191.100006  189.660004  189.839996  189.839996   \n",
       "2024-05-17  189.509995  190.809998  189.179993  189.869995  189.869995   \n",
       "\n",
       "               Volume  \n",
       "Date                   \n",
       "1980-12-12  469033600  \n",
       "1980-12-15  175884800  \n",
       "1980-12-16  105728000  \n",
       "1980-12-17   86441600  \n",
       "1980-12-18   73449600  \n",
       "...               ...  \n",
       "2024-05-13   72044800  \n",
       "2024-05-14   52393600  \n",
       "2024-05-15   70400000  \n",
       "2024-05-16   52845200  \n",
       "2024-05-17   41260800  \n",
       "\n",
       "[10949 rows x 6 columns]"
      ]
     },
     "execution_count": 3,
     "metadata": {},
     "output_type": "execute_result"
    }
   ],
   "source": [
    "ticker = 'AAPL'\n",
    "df = yfinance.download(ticker)\n",
    "open_values = df.iloc[:, 0:1].values\n",
    "len(open_values)\n",
    "df"
   ]
  },
  {
   "cell_type": "code",
   "execution_count": 4,
   "metadata": {},
   "outputs": [
    {
     "data": {
      "text/plain": [
       "array([[3.97448390e-04],\n",
       "       [3.66443799e-04],\n",
       "       [3.21341048e-04],\n",
       "       ...,\n",
       "       [9.48931741e-01],\n",
       "       [9.61862958e-01],\n",
       "       [9.57013713e-01]])"
      ]
     },
     "execution_count": 4,
     "metadata": {},
     "output_type": "execute_result"
    }
   ],
   "source": [
    "from sklearn.preprocessing import MinMaxScaler\n",
    "mms = MinMaxScaler(feature_range=(0,1))\n",
    "open_values = mms.fit_transform(open_values)\n",
    "open_values"
   ]
  },
  {
   "cell_type": "markdown",
   "metadata": {},
   "source": [
    "Take the previous 100 timesteps into one array and make X_train and y_train based off such values."
   ]
  },
  {
   "cell_type": "code",
   "execution_count": 5,
   "metadata": {},
   "outputs": [
    {
     "data": {
      "text/plain": [
       "(8659, 100, 1)"
      ]
     },
     "execution_count": 5,
     "metadata": {},
     "output_type": "execute_result"
    }
   ],
   "source": [
    "X_train = []\n",
    "y_train = []\n",
    "marker = int(.8 * len(open_values))\n",
    "for i in range(100, marker):\n",
    "  X_train.append(open_values[i-100:i, 0])\n",
    "  y_train.append(open_values[i, 0])\n",
    "\n",
    "X_train = np.array(X_train)\n",
    "y_train = np.array(y_train)\n",
    "\n",
    "# change it to a 3D tensor\n",
    "\n",
    "X_train = np.reshape(X_train, [X_train.shape[0], X_train.shape[1], 1])\n",
    "X_train.shape"
   ]
  },
  {
   "cell_type": "code",
   "execution_count": 6,
   "metadata": {},
   "outputs": [],
   "source": [
    "class LSTM():\n",
    "  def __init__(self, x_train, y_train):\n",
    "    self.x_train = x_train\n",
    "    self.y_train = y_train\n",
    "    self.model = None\n",
    "  \n",
    "  def check(self):\n",
    "    return self.model.summary\n",
    "  \n",
    "  def create_model(self):\n",
    "    model = tf.keras.models.Sequential(\n",
    "      layers=[\n",
    "        tf.keras.layers.Input(shape=(self.x_train.shape[1], 1)),\n",
    "        tf.keras.layers.LSTM(units=60, return_sequences=True),\n",
    "        tf.keras.layers.Dropout(rate=0.2),\n",
    "        tf.keras.layers.LSTM(units=60, return_sequences=True),\n",
    "        tf.keras.layers.Dropout(rate=0.2),\n",
    "        tf.keras.layers.LSTM(units=60, return_sequences=True),\n",
    "        tf.keras.layers.Dropout(rate=0.2),\n",
    "        tf.keras.layers.LSTM(units=60),\n",
    "        tf.keras.layers.Dropout(rate=0.2),\n",
    "        \n",
    "        tf.keras.layers.Dense(units=1)\n",
    "      ] \n",
    "    )\n",
    "\n",
    "    self.model = model\n",
    "  \n",
    "  def compile(self):\n",
    "    self.model.compile(optimizer='adam', loss='mean_squared_error', metrics=[])\n",
    "    return self.model.fit(self.x_train, self.y_train, epochs=3, batch_size=500)\n",
    "  \n",
    "  def predict(self, x_test):\n",
    "    return self.model.predict(x_test)\n",
    "    "
   ]
  },
  {
   "cell_type": "code",
   "execution_count": 7,
   "metadata": {},
   "outputs": [
    {
     "name": "stderr",
     "output_type": "stream",
     "text": [
      "2024-05-19 19:58:57.872909: I tensorflow/core/platform/cpu_feature_guard.cc:193] This TensorFlow binary is optimized with oneAPI Deep Neural Network Library (oneDNN) to use the following CPU instructions in performance-critical operations:  SSE4.1 SSE4.2\n",
      "To enable them in other operations, rebuild TensorFlow with the appropriate compiler flags.\n"
     ]
    },
    {
     "name": "stdout",
     "output_type": "stream",
     "text": [
      "Epoch 1/3\n",
      "18/18 [==============================] - 12s 457ms/step - loss: 4.6111e-04\n",
      "Epoch 2/3\n",
      "18/18 [==============================] - 9s 483ms/step - loss: 6.4213e-05\n",
      "Epoch 3/3\n",
      "18/18 [==============================] - 7s 410ms/step - loss: 2.7317e-05\n"
     ]
    },
    {
     "data": {
      "text/plain": [
       "<keras.callbacks.History at 0x7fa7ce885240>"
      ]
     },
     "execution_count": 7,
     "metadata": {},
     "output_type": "execute_result"
    }
   ],
   "source": [
    "model = LSTM(X_train, y_train)\n",
    "model.create_model()\n",
    "model.compile()"
   ]
  },
  {
   "cell_type": "markdown",
   "metadata": {},
   "source": [
    "create testing dataset"
   ]
  },
  {
   "cell_type": "code",
   "execution_count": 8,
   "metadata": {},
   "outputs": [
    {
     "name": "stdout",
     "output_type": "stream",
     "text": [
      "69/69 [==============================] - 3s 31ms/step\n"
     ]
    }
   ],
   "source": [
    "X_test = []\n",
    "y_truth = []\n",
    "\n",
    "dataset_total = df['Open']\n",
    "inputs = dataset_total.values\n",
    "inputs = inputs.reshape(-1, 1)\n",
    "inputs = mms.transform(inputs)\n",
    "\n",
    "for i in range(marker, len(dataset_total)):\n",
    "  X_test.append(inputs[i-100:i, 0])\n",
    "  y_truth.append(inputs[i, 0])\n",
    "\n",
    "\n",
    "X_test = np.array(X_test)\n",
    "X_test = np.reshape(X_test, (X_test.shape[0], X_test.shape[1], 1))\n",
    "y_truth = np.array(y_truth).reshape(-1, 1) \n",
    "predicted_stock_price = model.predict(X_test)\n",
    "predicted_stock_price = mms.inverse_transform(predicted_stock_price)\n",
    "y_truth = mms.inverse_transform(y_truth)\n",
    "  "
   ]
  },
  {
   "cell_type": "code",
   "execution_count": 9,
   "metadata": {},
   "outputs": [
    {
     "data": {
      "image/png": "[encoded data removed]",
      "text/plain": [
       "<Figure size 640x480 with 1 Axes>"
      ]
     },
     "metadata": {},
     "output_type": "display_data"
    },
    {
     "name": "stdout",
     "output_type": "stream",
     "text": [
      "AAPL_stock_plot_lstm.png\n"
     ]
    }
   ],
   "source": [
    "import os\n",
    "\n",
    "plt.plot(y_truth, color = 'black', label = f'{ticker} stock price')\n",
    "plt.plot(predicted_stock_price, color = 'green', label = f'Predicted {ticker} stock price')\n",
    "plt.title(f'{ticker} Stock Price Prediction')\n",
    "plt.xlabel('Time')\n",
    "plt.ylabel(f'{ticker} Stock Price')\n",
    "plt.legend()\n",
    "\n",
    "image_path = os.path.join(f'{ticker}_stock_plot_lstm.png')\n",
    "\n",
    "plt.savefig(image_path)\n",
    "plt.show()\n",
    "plt.close()\n",
    "print(image_path)\n"
   ]
  },
  {
   "cell_type": "code",
   "execution_count": 10,
   "metadata": {},
   "outputs": [
    {
     "name": "stdout",
     "output_type": "stream",
     "text": [
      "0.9291493365160046\n"
     ]
    }
   ],
   "source": [
    "from sklearn.metrics import r2_score\n",
    "r2 = r2_score(y_truth, predicted_stock_price)\n",
    "print(r2)"
   ]
  },
  {
   "cell_type": "code",
   "execution_count": null,
   "metadata": {},
   "outputs": [],
   "source": []
  }
 ],
 "metadata": {
  "kernelspec": {
   "display_name": "DevelopmentServer",
   "language": "python",
   "name": "python3"
  },
  "language_info": {
   "codemirror_mode": {
    "name": "ipython",
    "version": 3
   },
   "file_extension": ".py",
   "mimetype": "text/x-python",
   "name": "python",
   "nbconvert_exporter": "python",
   "pygments_lexer": "ipython3",
   "version": "3.10.13"
  }
 },
 "nbformat": 4,
 "nbformat_minor": 2
}
